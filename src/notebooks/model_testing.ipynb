{
 "cells": [
  {
   "cell_type": "code",
   "execution_count": 1,
   "metadata": {},
   "outputs": [
    {
     "name": "stderr",
     "output_type": "stream",
     "text": [
      "/Users/daniel/miniconda3/envs/graphworld/lib/python3.10/site-packages/tqdm/auto.py:21: TqdmWarning: IProgress not found. Please update jupyter and ipywidgets. See https://ipywidgets.readthedocs.io/en/stable/user_install.html\n",
      "  from .autonotebook import tqdm as notebook_tqdm\n"
     ]
    },
    {
     "name": "stdout",
     "output_type": "stream",
     "text": [
      "✅ Imported HGCN from <class 'graph_world.models.basic_gnn.HGCN'>\n"
     ]
    }
   ],
   "source": [
    "import os, sys\n",
    "\n",
    "# 1. Compute the src/ directory (one level up from notebooks/)\n",
    "notebooks_dir = os.getcwd()                            # e.g. …/graphworld/src/notebooks\n",
    "src_dir       = os.path.abspath(os.path.join(notebooks_dir, os.pardir))\n",
    "# 2. Prepend it to Python’s module search path\n",
    "if src_dir not in sys.path:\n",
    "    sys.path.insert(0, src_dir)\n",
    "\n",
    "# 3. Now you can import as expected\n",
    "from graph_world.models.basic_gnn import HGCN\n",
    "print(\"✅ Imported HGCN from\", HGCN)"
   ]
  },
  {
   "cell_type": "code",
   "execution_count": 2,
   "metadata": {},
   "outputs": [
    {
     "name": "stdout",
     "output_type": "stream",
     "text": [
      "GCN(1433, 7, num_layers=2)\n",
      "GCN params: 23,335  train/val/test = [1.0, 0.7200000286102295, 0.7450000047683716]  time = 0.91s\n",
      "HGCN(in=1433, hid=16, layers=2, out=7, manifold=Hyperboloid, c = None)\n",
      "HGCN hyperboloid params: 23,354  train/val/test = [1.0, 0.7360000014305115, 0.75]  time = 12.20s\n"
     ]
    }
   ],
   "source": [
    "import time\n",
    "import torch\n",
    "import torch.nn.functional as F\n",
    "from torch_geometric.datasets import Planetoid\n",
    "from torch_geometric.utils import to_undirected\n",
    "\n",
    "from graph_world.models.basic_gnn import GCN, HGCN\n",
    "\n",
    "# 1) Load Cora\n",
    "dataset = Planetoid(root='.', name='Cora')\n",
    "data = dataset[0]\n",
    "data.edge_index = to_undirected(data.edge_index)\n",
    "device = torch.device(\"cpu\") \n",
    "data = data.to(device)\n",
    "\n",
    "def train_model(model, data, epochs=200, lr=0.01, weight_decay=5e-4):\n",
    "    opt = torch.optim.Adam(model.parameters(), lr=lr, weight_decay=weight_decay)\n",
    "    model.train()\n",
    "    for _ in range(epochs):\n",
    "        opt.zero_grad()\n",
    "        out = model(data.x, data.edge_index)\n",
    "        loss = F.cross_entropy(out[data.train_mask], data.y[data.train_mask])\n",
    "        loss.backward()\n",
    "        opt.step()\n",
    "    return model\n",
    "\n",
    "def test_model(model, data):\n",
    "    model.eval()\n",
    "    logits = model(data.x, data.edge_index)\n",
    "    pred = logits.argmax(dim=1)\n",
    "    accs = []\n",
    "    for mask in [data.train_mask, data.val_mask, data.test_mask]:\n",
    "        accs.append((pred[mask] == data.y[mask]).float().mean().item())\n",
    "    return accs  # train, val, test\n",
    "\n",
    "def param_count(model):\n",
    "    return sum(p.numel() for p in model.parameters() if p.requires_grad)\n",
    "\n",
    "# 2) Instantiate & run GCN\n",
    "gcn = GCN(in_channels=dataset.num_node_features,\n",
    "          hidden_channels=16,\n",
    "          num_layers=2,\n",
    "          out_channels=dataset.num_classes,\n",
    "          dropout=0.5).to(device)\n",
    "\n",
    "t0 = time.time()\n",
    "gcn = train_model(gcn, data)\n",
    "gcn_time = time.time() - t0\n",
    "gcn_accs = test_model(gcn, data)\n",
    "\n",
    "print(f\"GCN params: {param_count(gcn):,}  train/val/test = {gcn_accs}  time = {gcn_time:.2f}s\")\n",
    "\n",
    "# 3) Instantiate & run HGCN\n",
    "hgcn = HGCN(in_channels=dataset.num_node_features,\n",
    "            hidden_channels=16,\n",
    "            num_layers=2,\n",
    "            out_channels=dataset.num_classes,\n",
    "            c=None,            # learnable curvatures\n",
    "            manifold='Hyperboloid',\n",
    "            dropout=0.5,\n",
    "            bias=True,\n",
    "            act_name='relu').to(device)\n",
    "\n",
    "t0 = time.time()\n",
    "hgcn = train_model(hgcn, data)\n",
    "hgcn_time = time.time() - t0\n",
    "hgcn_accs = test_model(hgcn, data)\n",
    "\n",
    "print(f\"HGCN hyperboloid params: {param_count(hgcn):,}  train/val/test = {hgcn_accs}  time = {hgcn_time:.2f}s\")\n"
   ]
  },
  {
   "cell_type": "code",
   "execution_count": null,
   "metadata": {},
   "outputs": [],
   "source": []
  }
 ],
 "metadata": {
  "language_info": {
   "name": "python"
  }
 },
 "nbformat": 4,
 "nbformat_minor": 2
}
